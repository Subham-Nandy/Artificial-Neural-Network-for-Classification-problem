{
  "nbformat": 4,
  "nbformat_minor": 0,
  "metadata": {
    "colab": {
      "name": "Artificial Neural Network_Classification.ipynb",
      "provenance": []
    },
    "kernelspec": {
      "name": "python3",
      "display_name": "Python 3"
    }
  },
  "cells": [
    {
      "cell_type": "code",
      "metadata": {
        "colab": {
          "base_uri": "https://localhost:8080/"
        },
        "id": "wiI6to71kGu-",
        "outputId": "996b33a2-702f-4a83-cb9b-0f5242ac4811"
      },
      "source": [
        "from google.colab import drive\r\n",
        "drive.mount(\"/content/drive\",force_remount=\"TRUE\")"
      ],
      "execution_count": 47,
      "outputs": [
        {
          "output_type": "stream",
          "text": [
            "Mounted at /content/drive\n"
          ],
          "name": "stdout"
        }
      ]
    },
    {
      "cell_type": "markdown",
      "metadata": {
        "id": "RHoEoRAKl1GZ"
      },
      "source": [
        "#Importing Dataset"
      ]
    },
    {
      "cell_type": "code",
      "metadata": {
        "id": "lBaoEXcFlZtm"
      },
      "source": [
        "import numpy as np\r\n",
        "import pandas as pd\r\n",
        "import tensorflow as tf"
      ],
      "execution_count": 48,
      "outputs": []
    },
    {
      "cell_type": "code",
      "metadata": {
        "colab": {
          "base_uri": "https://localhost:8080/",
          "height": 35
        },
        "id": "0Z4hzSxjltfH",
        "outputId": "6b42e8a7-5a88-42fc-f05a-d22cd3ab306b"
      },
      "source": [
        "tf.__version__"
      ],
      "execution_count": 49,
      "outputs": [
        {
          "output_type": "execute_result",
          "data": {
            "application/vnd.google.colaboratory.intrinsic+json": {
              "type": "string"
            },
            "text/plain": [
              "'2.4.0'"
            ]
          },
          "metadata": {
            "tags": []
          },
          "execution_count": 49
        }
      ]
    },
    {
      "cell_type": "code",
      "metadata": {
        "colab": {
          "base_uri": "https://localhost:8080/"
        },
        "id": "xwTl4keEl7ya",
        "outputId": "b691a29b-5182-4a58-8768-68b951de9741"
      },
      "source": [
        "df=pd.read_csv(\"/content/drive/MyDrive/Machine Learning A-Z (Codes and Datasets)-20200808T101226Z-001/Machine Learning A-Z (Codes and Datasets)/Part 8 - Deep Learning/Section 39 - Artificial Neural Networks (ANN)/Python/Churn_Modelling.csv\")\r\n",
        "print(df)"
      ],
      "execution_count": 50,
      "outputs": [
        {
          "output_type": "stream",
          "text": [
            "      RowNumber  CustomerId    Surname  ...  IsActiveMember EstimatedSalary Exited\n",
            "0             1    15634602   Hargrave  ...               1       101348.88      1\n",
            "1             2    15647311       Hill  ...               1       112542.58      0\n",
            "2             3    15619304       Onio  ...               0       113931.57      1\n",
            "3             4    15701354       Boni  ...               0        93826.63      0\n",
            "4             5    15737888   Mitchell  ...               1        79084.10      0\n",
            "...         ...         ...        ...  ...             ...             ...    ...\n",
            "9995       9996    15606229   Obijiaku  ...               0        96270.64      0\n",
            "9996       9997    15569892  Johnstone  ...               1       101699.77      0\n",
            "9997       9998    15584532        Liu  ...               1        42085.58      1\n",
            "9998       9999    15682355  Sabbatini  ...               0        92888.52      1\n",
            "9999      10000    15628319     Walker  ...               0        38190.78      0\n",
            "\n",
            "[10000 rows x 14 columns]\n"
          ],
          "name": "stdout"
        }
      ]
    },
    {
      "cell_type": "code",
      "metadata": {
        "colab": {
          "base_uri": "https://localhost:8080/",
          "height": 204
        },
        "id": "4b09-aFlm7eB",
        "outputId": "fd646ae4-8ff5-4072-f48c-a08ac09a576d"
      },
      "source": [
        "df.head()"
      ],
      "execution_count": 51,
      "outputs": [
        {
          "output_type": "execute_result",
          "data": {
            "text/html": [
              "<div>\n",
              "<style scoped>\n",
              "    .dataframe tbody tr th:only-of-type {\n",
              "        vertical-align: middle;\n",
              "    }\n",
              "\n",
              "    .dataframe tbody tr th {\n",
              "        vertical-align: top;\n",
              "    }\n",
              "\n",
              "    .dataframe thead th {\n",
              "        text-align: right;\n",
              "    }\n",
              "</style>\n",
              "<table border=\"1\" class=\"dataframe\">\n",
              "  <thead>\n",
              "    <tr style=\"text-align: right;\">\n",
              "      <th></th>\n",
              "      <th>RowNumber</th>\n",
              "      <th>CustomerId</th>\n",
              "      <th>Surname</th>\n",
              "      <th>CreditScore</th>\n",
              "      <th>Geography</th>\n",
              "      <th>Gender</th>\n",
              "      <th>Age</th>\n",
              "      <th>Tenure</th>\n",
              "      <th>Balance</th>\n",
              "      <th>NumOfProducts</th>\n",
              "      <th>HasCrCard</th>\n",
              "      <th>IsActiveMember</th>\n",
              "      <th>EstimatedSalary</th>\n",
              "      <th>Exited</th>\n",
              "    </tr>\n",
              "  </thead>\n",
              "  <tbody>\n",
              "    <tr>\n",
              "      <th>0</th>\n",
              "      <td>1</td>\n",
              "      <td>15634602</td>\n",
              "      <td>Hargrave</td>\n",
              "      <td>619</td>\n",
              "      <td>France</td>\n",
              "      <td>Female</td>\n",
              "      <td>42</td>\n",
              "      <td>2</td>\n",
              "      <td>0.00</td>\n",
              "      <td>1</td>\n",
              "      <td>1</td>\n",
              "      <td>1</td>\n",
              "      <td>101348.88</td>\n",
              "      <td>1</td>\n",
              "    </tr>\n",
              "    <tr>\n",
              "      <th>1</th>\n",
              "      <td>2</td>\n",
              "      <td>15647311</td>\n",
              "      <td>Hill</td>\n",
              "      <td>608</td>\n",
              "      <td>Spain</td>\n",
              "      <td>Female</td>\n",
              "      <td>41</td>\n",
              "      <td>1</td>\n",
              "      <td>83807.86</td>\n",
              "      <td>1</td>\n",
              "      <td>0</td>\n",
              "      <td>1</td>\n",
              "      <td>112542.58</td>\n",
              "      <td>0</td>\n",
              "    </tr>\n",
              "    <tr>\n",
              "      <th>2</th>\n",
              "      <td>3</td>\n",
              "      <td>15619304</td>\n",
              "      <td>Onio</td>\n",
              "      <td>502</td>\n",
              "      <td>France</td>\n",
              "      <td>Female</td>\n",
              "      <td>42</td>\n",
              "      <td>8</td>\n",
              "      <td>159660.80</td>\n",
              "      <td>3</td>\n",
              "      <td>1</td>\n",
              "      <td>0</td>\n",
              "      <td>113931.57</td>\n",
              "      <td>1</td>\n",
              "    </tr>\n",
              "    <tr>\n",
              "      <th>3</th>\n",
              "      <td>4</td>\n",
              "      <td>15701354</td>\n",
              "      <td>Boni</td>\n",
              "      <td>699</td>\n",
              "      <td>France</td>\n",
              "      <td>Female</td>\n",
              "      <td>39</td>\n",
              "      <td>1</td>\n",
              "      <td>0.00</td>\n",
              "      <td>2</td>\n",
              "      <td>0</td>\n",
              "      <td>0</td>\n",
              "      <td>93826.63</td>\n",
              "      <td>0</td>\n",
              "    </tr>\n",
              "    <tr>\n",
              "      <th>4</th>\n",
              "      <td>5</td>\n",
              "      <td>15737888</td>\n",
              "      <td>Mitchell</td>\n",
              "      <td>850</td>\n",
              "      <td>Spain</td>\n",
              "      <td>Female</td>\n",
              "      <td>43</td>\n",
              "      <td>2</td>\n",
              "      <td>125510.82</td>\n",
              "      <td>1</td>\n",
              "      <td>1</td>\n",
              "      <td>1</td>\n",
              "      <td>79084.10</td>\n",
              "      <td>0</td>\n",
              "    </tr>\n",
              "  </tbody>\n",
              "</table>\n",
              "</div>"
            ],
            "text/plain": [
              "   RowNumber  CustomerId   Surname  ...  IsActiveMember EstimatedSalary Exited\n",
              "0          1    15634602  Hargrave  ...               1       101348.88      1\n",
              "1          2    15647311      Hill  ...               1       112542.58      0\n",
              "2          3    15619304      Onio  ...               0       113931.57      1\n",
              "3          4    15701354      Boni  ...               0        93826.63      0\n",
              "4          5    15737888  Mitchell  ...               1        79084.10      0\n",
              "\n",
              "[5 rows x 14 columns]"
            ]
          },
          "metadata": {
            "tags": []
          },
          "execution_count": 51
        }
      ]
    },
    {
      "cell_type": "code",
      "metadata": {
        "colab": {
          "base_uri": "https://localhost:8080/"
        },
        "id": "rkhcVAwtmlsY",
        "outputId": "2f50d971-626c-4f97-ed51-4e632767e813"
      },
      "source": [
        "x=df.iloc[:,3:-1].values\r\n",
        "y=df.iloc[:,-1].values\r\n",
        "print(x)"
      ],
      "execution_count": 52,
      "outputs": [
        {
          "output_type": "stream",
          "text": [
            "[[619 'France' 'Female' ... 1 1 101348.88]\n",
            " [608 'Spain' 'Female' ... 0 1 112542.58]\n",
            " [502 'France' 'Female' ... 1 0 113931.57]\n",
            " ...\n",
            " [709 'France' 'Female' ... 0 1 42085.58]\n",
            " [772 'Germany' 'Male' ... 1 0 92888.52]\n",
            " [792 'France' 'Female' ... 1 0 38190.78]]\n"
          ],
          "name": "stdout"
        }
      ]
    },
    {
      "cell_type": "markdown",
      "metadata": {
        "id": "GPsxenkXnV8w"
      },
      "source": [
        "#Data Preprocessing"
      ]
    },
    {
      "cell_type": "markdown",
      "metadata": {
        "id": "iwCcTTpUncxg"
      },
      "source": [
        "**LabelEncoding of \"Gender\" Column**"
      ]
    },
    {
      "cell_type": "code",
      "metadata": {
        "id": "u1yvYXLqnqFB"
      },
      "source": [
        "from sklearn.preprocessing import LabelEncoder\r\n",
        "le=LabelEncoder()\r\n",
        "x[:,2]=le.fit_transform(x[:,2])"
      ],
      "execution_count": 53,
      "outputs": []
    },
    {
      "cell_type": "code",
      "metadata": {
        "colab": {
          "base_uri": "https://localhost:8080/"
        },
        "id": "lvuAu1IcoFm9",
        "outputId": "601e7b3e-242b-4e34-b087-9deacd4686ed"
      },
      "source": [
        "x"
      ],
      "execution_count": 54,
      "outputs": [
        {
          "output_type": "execute_result",
          "data": {
            "text/plain": [
              "array([[619, 'France', 0, ..., 1, 1, 101348.88],\n",
              "       [608, 'Spain', 0, ..., 0, 1, 112542.58],\n",
              "       [502, 'France', 0, ..., 1, 0, 113931.57],\n",
              "       ...,\n",
              "       [709, 'France', 0, ..., 0, 1, 42085.58],\n",
              "       [772, 'Germany', 1, ..., 1, 0, 92888.52],\n",
              "       [792, 'France', 0, ..., 1, 0, 38190.78]], dtype=object)"
            ]
          },
          "metadata": {
            "tags": []
          },
          "execution_count": 54
        }
      ]
    },
    {
      "cell_type": "markdown",
      "metadata": {
        "id": "3-Wa1K3FodUT"
      },
      "source": [
        "**OneHotEncoding of the \"Geography\" column**"
      ]
    },
    {
      "cell_type": "code",
      "metadata": {
        "id": "uDRdjfuKoJX-"
      },
      "source": [
        "from sklearn.compose import ColumnTransformer\r\n",
        "from sklearn.preprocessing import OneHotEncoder\r\n",
        "ct=ColumnTransformer(transformers=[(\"encoder\",OneHotEncoder(),[1])],remainder=\"passthrough\")\r\n",
        "x=np.array(ct.fit_transform(x))"
      ],
      "execution_count": 55,
      "outputs": []
    },
    {
      "cell_type": "code",
      "metadata": {
        "colab": {
          "base_uri": "https://localhost:8080/"
        },
        "id": "XJAc2IR8qFvn",
        "outputId": "58f46423-bb16-4b5b-e897-b73baae39770"
      },
      "source": [
        "x"
      ],
      "execution_count": 56,
      "outputs": [
        {
          "output_type": "execute_result",
          "data": {
            "text/plain": [
              "array([[1.0, 0.0, 0.0, ..., 1, 1, 101348.88],\n",
              "       [0.0, 0.0, 1.0, ..., 0, 1, 112542.58],\n",
              "       [1.0, 0.0, 0.0, ..., 1, 0, 113931.57],\n",
              "       ...,\n",
              "       [1.0, 0.0, 0.0, ..., 0, 1, 42085.58],\n",
              "       [0.0, 1.0, 0.0, ..., 1, 0, 92888.52],\n",
              "       [1.0, 0.0, 0.0, ..., 1, 0, 38190.78]], dtype=object)"
            ]
          },
          "metadata": {
            "tags": []
          },
          "execution_count": 56
        }
      ]
    },
    {
      "cell_type": "markdown",
      "metadata": {
        "id": "RzpKMvd8qIdU"
      },
      "source": [
        "**Splitting of the Training Set and the Test set**"
      ]
    },
    {
      "cell_type": "code",
      "metadata": {
        "id": "w1AyxqHKqOvI"
      },
      "source": [
        "from sklearn.model_selection import train_test_split\r\n",
        "x_train,x_test,y_train,y_test= train_test_split(x,y,test_size=0.2,random_state=0)"
      ],
      "execution_count": 57,
      "outputs": []
    },
    {
      "cell_type": "markdown",
      "metadata": {
        "id": "q4mT--43qqwT"
      },
      "source": [
        "**Feature Scaling**"
      ]
    },
    {
      "cell_type": "code",
      "metadata": {
        "id": "NPRPqxz4q7Zf"
      },
      "source": [
        "from sklearn.preprocessing import StandardScaler\r\n",
        "sc= StandardScaler()\r\n",
        "x_train=sc.fit_transform(x_train)\r\n",
        "x_test= sc.fit_transform(x_test)"
      ],
      "execution_count": 58,
      "outputs": []
    },
    {
      "cell_type": "markdown",
      "metadata": {
        "id": "GKQenakfrkfq"
      },
      "source": [
        "#Creating the ANN model"
      ]
    },
    {
      "cell_type": "markdown",
      "metadata": {
        "id": "NKnfdseUrqt1"
      },
      "source": [
        "**Initialization of the model**"
      ]
    },
    {
      "cell_type": "code",
      "metadata": {
        "id": "rYLiqYb_rxmK"
      },
      "source": [
        "ann = tf.keras.models.Sequential()"
      ],
      "execution_count": 59,
      "outputs": []
    },
    {
      "cell_type": "markdown",
      "metadata": {
        "id": "qYtyMuKJs4TV"
      },
      "source": [
        "**Adding the first input layer**"
      ]
    },
    {
      "cell_type": "code",
      "metadata": {
        "id": "dGZjF5IEsKfy"
      },
      "source": [
        "ann.add(tf.keras.layers.Dense(units=6,activation=\"relu\"))"
      ],
      "execution_count": 60,
      "outputs": []
    },
    {
      "cell_type": "markdown",
      "metadata": {
        "id": "Ne6-aA4ps8fW"
      },
      "source": [
        "Adding the Second input layer"
      ]
    },
    {
      "cell_type": "code",
      "metadata": {
        "id": "nZGu9K8CscPl"
      },
      "source": [
        "ann.add(tf.keras.layers.Dense(units=36,activation=\"relu\"))"
      ],
      "execution_count": 61,
      "outputs": []
    },
    {
      "cell_type": "markdown",
      "metadata": {
        "id": "IYLv9vh9tAcp"
      },
      "source": [
        "**Adding the output layer**"
      ]
    },
    {
      "cell_type": "code",
      "metadata": {
        "id": "y_7yQhoMsqhr"
      },
      "source": [
        "ann.add(tf.keras.layers.Dense(units=1,activation=\"sigmoid\"))"
      ],
      "execution_count": 62,
      "outputs": []
    },
    {
      "cell_type": "markdown",
      "metadata": {
        "id": "U4apdiTitFOq"
      },
      "source": [
        "*In case of nonbinary output we use the activation function of the output layer as \"softmax\".*"
      ]
    },
    {
      "cell_type": "markdown",
      "metadata": {
        "id": "vwNj4ZnLttPG"
      },
      "source": [
        "#Training the ANN model"
      ]
    },
    {
      "cell_type": "markdown",
      "metadata": {
        "id": "1GW9yyN9tyn-"
      },
      "source": [
        "**Compiling the model**"
      ]
    },
    {
      "cell_type": "code",
      "metadata": {
        "id": "r58oELsCuL3n"
      },
      "source": [
        "ann.compile(optimizer=\"adam\",loss=\"binary_crossentropy\",metrics= (\"accuracy\"))"
      ],
      "execution_count": 63,
      "outputs": []
    },
    {
      "cell_type": "markdown",
      "metadata": {
        "id": "gb1ntVtkurZL"
      },
      "source": [
        "**Training the model**"
      ]
    },
    {
      "cell_type": "code",
      "metadata": {
        "colab": {
          "base_uri": "https://localhost:8080/"
        },
        "id": "DeddrwEfvKpT",
        "outputId": "8f01152d-d099-4a8a-8523-0b521db10583"
      },
      "source": [
        "ann.fit(x_train,y_train,batch_size=32,epochs=250)"
      ],
      "execution_count": 64,
      "outputs": [
        {
          "output_type": "stream",
          "text": [
            "Epoch 1/250\n",
            "250/250 [==============================] - 1s 843us/step - loss: 0.5831 - accuracy: 0.7507\n",
            "Epoch 2/250\n",
            "250/250 [==============================] - 0s 859us/step - loss: 0.4450 - accuracy: 0.8091\n",
            "Epoch 3/250\n",
            "250/250 [==============================] - 0s 836us/step - loss: 0.4172 - accuracy: 0.8224\n",
            "Epoch 4/250\n",
            "250/250 [==============================] - 0s 803us/step - loss: 0.4011 - accuracy: 0.8310\n",
            "Epoch 5/250\n",
            "250/250 [==============================] - 0s 867us/step - loss: 0.3862 - accuracy: 0.8469\n",
            "Epoch 6/250\n",
            "250/250 [==============================] - 0s 859us/step - loss: 0.3711 - accuracy: 0.8504\n",
            "Epoch 7/250\n",
            "250/250 [==============================] - 0s 921us/step - loss: 0.3620 - accuracy: 0.8520\n",
            "Epoch 8/250\n",
            "250/250 [==============================] - 0s 846us/step - loss: 0.3546 - accuracy: 0.8585\n",
            "Epoch 9/250\n",
            "250/250 [==============================] - 0s 864us/step - loss: 0.3570 - accuracy: 0.8549\n",
            "Epoch 10/250\n",
            "250/250 [==============================] - 0s 848us/step - loss: 0.3551 - accuracy: 0.8545\n",
            "Epoch 11/250\n",
            "250/250 [==============================] - 0s 782us/step - loss: 0.3578 - accuracy: 0.8562\n",
            "Epoch 12/250\n",
            "250/250 [==============================] - 0s 800us/step - loss: 0.3599 - accuracy: 0.8521\n",
            "Epoch 13/250\n",
            "250/250 [==============================] - 0s 813us/step - loss: 0.3530 - accuracy: 0.8604\n",
            "Epoch 14/250\n",
            "250/250 [==============================] - 0s 838us/step - loss: 0.3532 - accuracy: 0.8551\n",
            "Epoch 15/250\n",
            "250/250 [==============================] - 0s 853us/step - loss: 0.3503 - accuracy: 0.8564\n",
            "Epoch 16/250\n",
            "250/250 [==============================] - 0s 847us/step - loss: 0.3428 - accuracy: 0.8598\n",
            "Epoch 17/250\n",
            "250/250 [==============================] - 0s 847us/step - loss: 0.3406 - accuracy: 0.8633\n",
            "Epoch 18/250\n",
            "250/250 [==============================] - 0s 786us/step - loss: 0.3354 - accuracy: 0.8672\n",
            "Epoch 19/250\n",
            "250/250 [==============================] - 0s 846us/step - loss: 0.3402 - accuracy: 0.8635\n",
            "Epoch 20/250\n",
            "250/250 [==============================] - 0s 797us/step - loss: 0.3348 - accuracy: 0.8644\n",
            "Epoch 21/250\n",
            "250/250 [==============================] - 0s 748us/step - loss: 0.3364 - accuracy: 0.8620\n",
            "Epoch 22/250\n",
            "250/250 [==============================] - 0s 853us/step - loss: 0.3331 - accuracy: 0.8619\n",
            "Epoch 23/250\n",
            "250/250 [==============================] - 0s 788us/step - loss: 0.3262 - accuracy: 0.8692\n",
            "Epoch 24/250\n",
            "250/250 [==============================] - 0s 858us/step - loss: 0.3432 - accuracy: 0.8566\n",
            "Epoch 25/250\n",
            "250/250 [==============================] - 0s 732us/step - loss: 0.3422 - accuracy: 0.8616\n",
            "Epoch 26/250\n",
            "250/250 [==============================] - 0s 839us/step - loss: 0.3446 - accuracy: 0.8554\n",
            "Epoch 27/250\n",
            "250/250 [==============================] - 0s 845us/step - loss: 0.3311 - accuracy: 0.8647\n",
            "Epoch 28/250\n",
            "250/250 [==============================] - 0s 786us/step - loss: 0.3307 - accuracy: 0.8615\n",
            "Epoch 29/250\n",
            "250/250 [==============================] - 0s 848us/step - loss: 0.3228 - accuracy: 0.8653\n",
            "Epoch 30/250\n",
            "250/250 [==============================] - 0s 836us/step - loss: 0.3286 - accuracy: 0.8696\n",
            "Epoch 31/250\n",
            "250/250 [==============================] - 0s 866us/step - loss: 0.3432 - accuracy: 0.8631\n",
            "Epoch 32/250\n",
            "250/250 [==============================] - 0s 804us/step - loss: 0.3327 - accuracy: 0.8597\n",
            "Epoch 33/250\n",
            "250/250 [==============================] - 0s 808us/step - loss: 0.3287 - accuracy: 0.8666\n",
            "Epoch 34/250\n",
            "250/250 [==============================] - 0s 873us/step - loss: 0.3404 - accuracy: 0.8614\n",
            "Epoch 35/250\n",
            "250/250 [==============================] - 0s 891us/step - loss: 0.3323 - accuracy: 0.8699\n",
            "Epoch 36/250\n",
            "250/250 [==============================] - 0s 857us/step - loss: 0.3275 - accuracy: 0.8663\n",
            "Epoch 37/250\n",
            "250/250 [==============================] - 0s 862us/step - loss: 0.3261 - accuracy: 0.8691\n",
            "Epoch 38/250\n",
            "250/250 [==============================] - 0s 845us/step - loss: 0.3255 - accuracy: 0.8674\n",
            "Epoch 39/250\n",
            "250/250 [==============================] - 0s 827us/step - loss: 0.3269 - accuracy: 0.8635\n",
            "Epoch 40/250\n",
            "250/250 [==============================] - 0s 881us/step - loss: 0.3252 - accuracy: 0.8694\n",
            "Epoch 41/250\n",
            "250/250 [==============================] - 0s 812us/step - loss: 0.3338 - accuracy: 0.8620\n",
            "Epoch 42/250\n",
            "250/250 [==============================] - 0s 807us/step - loss: 0.3323 - accuracy: 0.8631\n",
            "Epoch 43/250\n",
            "250/250 [==============================] - 0s 859us/step - loss: 0.3270 - accuracy: 0.8675\n",
            "Epoch 44/250\n",
            "250/250 [==============================] - 0s 833us/step - loss: 0.3397 - accuracy: 0.8581\n",
            "Epoch 45/250\n",
            "250/250 [==============================] - 0s 731us/step - loss: 0.3309 - accuracy: 0.8618\n",
            "Epoch 46/250\n",
            "250/250 [==============================] - 0s 765us/step - loss: 0.3345 - accuracy: 0.8613\n",
            "Epoch 47/250\n",
            "250/250 [==============================] - 0s 844us/step - loss: 0.3261 - accuracy: 0.8665\n",
            "Epoch 48/250\n",
            "250/250 [==============================] - 0s 849us/step - loss: 0.3295 - accuracy: 0.8631\n",
            "Epoch 49/250\n",
            "250/250 [==============================] - 0s 797us/step - loss: 0.3261 - accuracy: 0.8644\n",
            "Epoch 50/250\n",
            "250/250 [==============================] - 0s 862us/step - loss: 0.3309 - accuracy: 0.8661\n",
            "Epoch 51/250\n",
            "250/250 [==============================] - 0s 867us/step - loss: 0.3314 - accuracy: 0.8615\n",
            "Epoch 52/250\n",
            "250/250 [==============================] - 0s 873us/step - loss: 0.3394 - accuracy: 0.8609\n",
            "Epoch 53/250\n",
            "250/250 [==============================] - 0s 831us/step - loss: 0.3251 - accuracy: 0.8655\n",
            "Epoch 54/250\n",
            "250/250 [==============================] - 0s 851us/step - loss: 0.3236 - accuracy: 0.8673\n",
            "Epoch 55/250\n",
            "250/250 [==============================] - 0s 848us/step - loss: 0.3080 - accuracy: 0.8751\n",
            "Epoch 56/250\n",
            "250/250 [==============================] - 0s 848us/step - loss: 0.3353 - accuracy: 0.8603\n",
            "Epoch 57/250\n",
            "250/250 [==============================] - 0s 927us/step - loss: 0.3253 - accuracy: 0.8648\n",
            "Epoch 58/250\n",
            "250/250 [==============================] - 0s 850us/step - loss: 0.3397 - accuracy: 0.8591\n",
            "Epoch 59/250\n",
            "250/250 [==============================] - 0s 840us/step - loss: 0.3289 - accuracy: 0.8675\n",
            "Epoch 60/250\n",
            "250/250 [==============================] - 0s 862us/step - loss: 0.3272 - accuracy: 0.8689\n",
            "Epoch 61/250\n",
            "250/250 [==============================] - 0s 853us/step - loss: 0.3212 - accuracy: 0.8695\n",
            "Epoch 62/250\n",
            "250/250 [==============================] - 0s 880us/step - loss: 0.3254 - accuracy: 0.8657\n",
            "Epoch 63/250\n",
            "250/250 [==============================] - 0s 831us/step - loss: 0.3277 - accuracy: 0.8628\n",
            "Epoch 64/250\n",
            "250/250 [==============================] - 0s 877us/step - loss: 0.3349 - accuracy: 0.8594\n",
            "Epoch 65/250\n",
            "250/250 [==============================] - 0s 852us/step - loss: 0.3324 - accuracy: 0.8605\n",
            "Epoch 66/250\n",
            "250/250 [==============================] - 0s 882us/step - loss: 0.3298 - accuracy: 0.8604\n",
            "Epoch 67/250\n",
            "250/250 [==============================] - 0s 874us/step - loss: 0.3237 - accuracy: 0.8679\n",
            "Epoch 68/250\n",
            "250/250 [==============================] - 0s 887us/step - loss: 0.3384 - accuracy: 0.8592\n",
            "Epoch 69/250\n",
            "250/250 [==============================] - 0s 862us/step - loss: 0.3231 - accuracy: 0.8663\n",
            "Epoch 70/250\n",
            "250/250 [==============================] - 0s 880us/step - loss: 0.3206 - accuracy: 0.8640\n",
            "Epoch 71/250\n",
            "250/250 [==============================] - 0s 873us/step - loss: 0.3335 - accuracy: 0.8613\n",
            "Epoch 72/250\n",
            "250/250 [==============================] - 0s 866us/step - loss: 0.3300 - accuracy: 0.8651\n",
            "Epoch 73/250\n",
            "250/250 [==============================] - 0s 892us/step - loss: 0.3260 - accuracy: 0.8632\n",
            "Epoch 74/250\n",
            "250/250 [==============================] - 0s 861us/step - loss: 0.3351 - accuracy: 0.8582\n",
            "Epoch 75/250\n",
            "250/250 [==============================] - 0s 901us/step - loss: 0.3330 - accuracy: 0.8579\n",
            "Epoch 76/250\n",
            "250/250 [==============================] - 0s 843us/step - loss: 0.3309 - accuracy: 0.8628\n",
            "Epoch 77/250\n",
            "250/250 [==============================] - 0s 865us/step - loss: 0.3307 - accuracy: 0.8614\n",
            "Epoch 78/250\n",
            "250/250 [==============================] - 0s 865us/step - loss: 0.3221 - accuracy: 0.8687\n",
            "Epoch 79/250\n",
            "250/250 [==============================] - 0s 894us/step - loss: 0.3213 - accuracy: 0.8643\n",
            "Epoch 80/250\n",
            "250/250 [==============================] - 0s 847us/step - loss: 0.3305 - accuracy: 0.8630\n",
            "Epoch 81/250\n",
            "250/250 [==============================] - 0s 741us/step - loss: 0.3301 - accuracy: 0.8622\n",
            "Epoch 82/250\n",
            "250/250 [==============================] - 0s 568us/step - loss: 0.3174 - accuracy: 0.8688\n",
            "Epoch 83/250\n",
            "250/250 [==============================] - 0s 723us/step - loss: 0.3192 - accuracy: 0.8681\n",
            "Epoch 84/250\n",
            "250/250 [==============================] - 0s 857us/step - loss: 0.3216 - accuracy: 0.8681\n",
            "Epoch 85/250\n",
            "250/250 [==============================] - 0s 835us/step - loss: 0.3261 - accuracy: 0.8652\n",
            "Epoch 86/250\n",
            "250/250 [==============================] - 0s 842us/step - loss: 0.3284 - accuracy: 0.8662\n",
            "Epoch 87/250\n",
            "250/250 [==============================] - 0s 877us/step - loss: 0.3240 - accuracy: 0.8674\n",
            "Epoch 88/250\n",
            "250/250 [==============================] - 0s 860us/step - loss: 0.3268 - accuracy: 0.8647\n",
            "Epoch 89/250\n",
            "250/250 [==============================] - 0s 846us/step - loss: 0.3244 - accuracy: 0.8648\n",
            "Epoch 90/250\n",
            "250/250 [==============================] - 0s 865us/step - loss: 0.3244 - accuracy: 0.8647\n",
            "Epoch 91/250\n",
            "250/250 [==============================] - 0s 905us/step - loss: 0.3310 - accuracy: 0.8617\n",
            "Epoch 92/250\n",
            "250/250 [==============================] - 0s 661us/step - loss: 0.3284 - accuracy: 0.8628\n",
            "Epoch 93/250\n",
            "250/250 [==============================] - 0s 600us/step - loss: 0.3216 - accuracy: 0.8662\n",
            "Epoch 94/250\n",
            "250/250 [==============================] - 0s 923us/step - loss: 0.3239 - accuracy: 0.8684\n",
            "Epoch 95/250\n",
            "250/250 [==============================] - 0s 840us/step - loss: 0.3199 - accuracy: 0.8667\n",
            "Epoch 96/250\n",
            "250/250 [==============================] - 0s 828us/step - loss: 0.3186 - accuracy: 0.8656\n",
            "Epoch 97/250\n",
            "250/250 [==============================] - 0s 874us/step - loss: 0.3282 - accuracy: 0.8675\n",
            "Epoch 98/250\n",
            "250/250 [==============================] - 0s 872us/step - loss: 0.3278 - accuracy: 0.8637\n",
            "Epoch 99/250\n",
            "250/250 [==============================] - 0s 806us/step - loss: 0.3220 - accuracy: 0.8689\n",
            "Epoch 100/250\n",
            "250/250 [==============================] - 0s 926us/step - loss: 0.3231 - accuracy: 0.8670\n",
            "Epoch 101/250\n",
            "250/250 [==============================] - 0s 855us/step - loss: 0.3129 - accuracy: 0.8727\n",
            "Epoch 102/250\n",
            "250/250 [==============================] - 0s 866us/step - loss: 0.3311 - accuracy: 0.8614\n",
            "Epoch 103/250\n",
            "250/250 [==============================] - 0s 897us/step - loss: 0.3269 - accuracy: 0.8638\n",
            "Epoch 104/250\n",
            "250/250 [==============================] - 0s 818us/step - loss: 0.3313 - accuracy: 0.8590\n",
            "Epoch 105/250\n",
            "250/250 [==============================] - 0s 864us/step - loss: 0.3229 - accuracy: 0.8619\n",
            "Epoch 106/250\n",
            "250/250 [==============================] - 0s 906us/step - loss: 0.3229 - accuracy: 0.8633\n",
            "Epoch 107/250\n",
            "250/250 [==============================] - 0s 918us/step - loss: 0.3272 - accuracy: 0.8623\n",
            "Epoch 108/250\n",
            "250/250 [==============================] - 0s 900us/step - loss: 0.3279 - accuracy: 0.8654\n",
            "Epoch 109/250\n",
            "250/250 [==============================] - 0s 852us/step - loss: 0.3201 - accuracy: 0.8648\n",
            "Epoch 110/250\n",
            "250/250 [==============================] - 0s 878us/step - loss: 0.3246 - accuracy: 0.8645\n",
            "Epoch 111/250\n",
            "250/250 [==============================] - 0s 931us/step - loss: 0.3220 - accuracy: 0.8643\n",
            "Epoch 112/250\n",
            "250/250 [==============================] - 0s 859us/step - loss: 0.3303 - accuracy: 0.8596\n",
            "Epoch 113/250\n",
            "250/250 [==============================] - 0s 891us/step - loss: 0.3172 - accuracy: 0.8678\n",
            "Epoch 114/250\n",
            "250/250 [==============================] - 0s 907us/step - loss: 0.3245 - accuracy: 0.8637\n",
            "Epoch 115/250\n",
            "250/250 [==============================] - 0s 817us/step - loss: 0.3215 - accuracy: 0.8655\n",
            "Epoch 116/250\n",
            "250/250 [==============================] - 0s 909us/step - loss: 0.3205 - accuracy: 0.8661\n",
            "Epoch 117/250\n",
            "250/250 [==============================] - 0s 901us/step - loss: 0.3329 - accuracy: 0.8616\n",
            "Epoch 118/250\n",
            "250/250 [==============================] - 0s 906us/step - loss: 0.3100 - accuracy: 0.8722\n",
            "Epoch 119/250\n",
            "250/250 [==============================] - 0s 848us/step - loss: 0.3282 - accuracy: 0.8618\n",
            "Epoch 120/250\n",
            "250/250 [==============================] - 0s 915us/step - loss: 0.3345 - accuracy: 0.8609\n",
            "Epoch 121/250\n",
            "250/250 [==============================] - 0s 743us/step - loss: 0.3294 - accuracy: 0.8619\n",
            "Epoch 122/250\n",
            "250/250 [==============================] - 0s 907us/step - loss: 0.3204 - accuracy: 0.8679\n",
            "Epoch 123/250\n",
            "250/250 [==============================] - 0s 888us/step - loss: 0.3146 - accuracy: 0.8686\n",
            "Epoch 124/250\n",
            "250/250 [==============================] - 0s 858us/step - loss: 0.3308 - accuracy: 0.8656\n",
            "Epoch 125/250\n",
            "250/250 [==============================] - 0s 905us/step - loss: 0.3269 - accuracy: 0.8627\n",
            "Epoch 126/250\n",
            "250/250 [==============================] - 0s 874us/step - loss: 0.3194 - accuracy: 0.8691\n",
            "Epoch 127/250\n",
            "250/250 [==============================] - 0s 813us/step - loss: 0.3123 - accuracy: 0.8693\n",
            "Epoch 128/250\n",
            "250/250 [==============================] - 0s 831us/step - loss: 0.3340 - accuracy: 0.8584\n",
            "Epoch 129/250\n",
            "250/250 [==============================] - 0s 881us/step - loss: 0.3269 - accuracy: 0.8623\n",
            "Epoch 130/250\n",
            "250/250 [==============================] - 0s 915us/step - loss: 0.3304 - accuracy: 0.8649\n",
            "Epoch 131/250\n",
            "250/250 [==============================] - 0s 864us/step - loss: 0.3168 - accuracy: 0.8716\n",
            "Epoch 132/250\n",
            "250/250 [==============================] - 0s 885us/step - loss: 0.3156 - accuracy: 0.8696\n",
            "Epoch 133/250\n",
            "250/250 [==============================] - 0s 903us/step - loss: 0.3257 - accuracy: 0.8671\n",
            "Epoch 134/250\n",
            "250/250 [==============================] - 0s 872us/step - loss: 0.3283 - accuracy: 0.8635\n",
            "Epoch 135/250\n",
            "250/250 [==============================] - 0s 914us/step - loss: 0.3207 - accuracy: 0.8681\n",
            "Epoch 136/250\n",
            "250/250 [==============================] - 0s 901us/step - loss: 0.3143 - accuracy: 0.8745\n",
            "Epoch 137/250\n",
            "250/250 [==============================] - 0s 878us/step - loss: 0.3147 - accuracy: 0.8751\n",
            "Epoch 138/250\n",
            "250/250 [==============================] - 0s 853us/step - loss: 0.3269 - accuracy: 0.8654\n",
            "Epoch 139/250\n",
            "250/250 [==============================] - 0s 872us/step - loss: 0.3182 - accuracy: 0.8698\n",
            "Epoch 140/250\n",
            "250/250 [==============================] - 0s 870us/step - loss: 0.3104 - accuracy: 0.8727\n",
            "Epoch 141/250\n",
            "250/250 [==============================] - 0s 865us/step - loss: 0.3263 - accuracy: 0.8611\n",
            "Epoch 142/250\n",
            "250/250 [==============================] - 0s 843us/step - loss: 0.3214 - accuracy: 0.8652\n",
            "Epoch 143/250\n",
            "250/250 [==============================] - 0s 865us/step - loss: 0.3216 - accuracy: 0.8664\n",
            "Epoch 144/250\n",
            "250/250 [==============================] - 0s 936us/step - loss: 0.3321 - accuracy: 0.8585\n",
            "Epoch 145/250\n",
            "250/250 [==============================] - 0s 842us/step - loss: 0.3240 - accuracy: 0.8634\n",
            "Epoch 146/250\n",
            "250/250 [==============================] - 0s 853us/step - loss: 0.3247 - accuracy: 0.8645\n",
            "Epoch 147/250\n",
            "250/250 [==============================] - 0s 593us/step - loss: 0.3194 - accuracy: 0.8650\n",
            "Epoch 148/250\n",
            "250/250 [==============================] - 0s 760us/step - loss: 0.3179 - accuracy: 0.8699\n",
            "Epoch 149/250\n",
            "250/250 [==============================] - 0s 867us/step - loss: 0.3212 - accuracy: 0.8646\n",
            "Epoch 150/250\n",
            "250/250 [==============================] - 0s 899us/step - loss: 0.3202 - accuracy: 0.8683\n",
            "Epoch 151/250\n",
            "250/250 [==============================] - 0s 858us/step - loss: 0.3139 - accuracy: 0.8679\n",
            "Epoch 152/250\n",
            "250/250 [==============================] - 0s 889us/step - loss: 0.3132 - accuracy: 0.8707\n",
            "Epoch 153/250\n",
            "250/250 [==============================] - 0s 925us/step - loss: 0.3251 - accuracy: 0.8637\n",
            "Epoch 154/250\n",
            "250/250 [==============================] - 0s 999us/step - loss: 0.3287 - accuracy: 0.8681\n",
            "Epoch 155/250\n",
            "250/250 [==============================] - 0s 907us/step - loss: 0.3166 - accuracy: 0.8689\n",
            "Epoch 156/250\n",
            "250/250 [==============================] - 0s 887us/step - loss: 0.3246 - accuracy: 0.8659\n",
            "Epoch 157/250\n",
            "250/250 [==============================] - 0s 898us/step - loss: 0.3227 - accuracy: 0.8654\n",
            "Epoch 158/250\n",
            "250/250 [==============================] - 0s 885us/step - loss: 0.3213 - accuracy: 0.8661\n",
            "Epoch 159/250\n",
            "250/250 [==============================] - 0s 935us/step - loss: 0.3259 - accuracy: 0.8632\n",
            "Epoch 160/250\n",
            "250/250 [==============================] - 0s 869us/step - loss: 0.3145 - accuracy: 0.8710\n",
            "Epoch 161/250\n",
            "250/250 [==============================] - 0s 895us/step - loss: 0.3140 - accuracy: 0.8715\n",
            "Epoch 162/250\n",
            "250/250 [==============================] - 0s 860us/step - loss: 0.3135 - accuracy: 0.8689\n",
            "Epoch 163/250\n",
            "250/250 [==============================] - 0s 901us/step - loss: 0.3270 - accuracy: 0.8644\n",
            "Epoch 164/250\n",
            "250/250 [==============================] - 0s 847us/step - loss: 0.3157 - accuracy: 0.8705\n",
            "Epoch 165/250\n",
            "250/250 [==============================] - 0s 903us/step - loss: 0.3161 - accuracy: 0.8701\n",
            "Epoch 166/250\n",
            "250/250 [==============================] - 0s 899us/step - loss: 0.3167 - accuracy: 0.8692\n",
            "Epoch 167/250\n",
            "250/250 [==============================] - 0s 876us/step - loss: 0.3223 - accuracy: 0.8708\n",
            "Epoch 168/250\n",
            "250/250 [==============================] - 0s 920us/step - loss: 0.3167 - accuracy: 0.8664\n",
            "Epoch 169/250\n",
            "250/250 [==============================] - 0s 859us/step - loss: 0.3210 - accuracy: 0.8666\n",
            "Epoch 170/250\n",
            "250/250 [==============================] - 0s 940us/step - loss: 0.3291 - accuracy: 0.8673\n",
            "Epoch 171/250\n",
            "250/250 [==============================] - 0s 894us/step - loss: 0.3168 - accuracy: 0.8680\n",
            "Epoch 172/250\n",
            "250/250 [==============================] - 0s 904us/step - loss: 0.3317 - accuracy: 0.8567\n",
            "Epoch 173/250\n",
            "250/250 [==============================] - 0s 896us/step - loss: 0.3257 - accuracy: 0.8627\n",
            "Epoch 174/250\n",
            "250/250 [==============================] - 0s 864us/step - loss: 0.3185 - accuracy: 0.8646\n",
            "Epoch 175/250\n",
            "250/250 [==============================] - 0s 907us/step - loss: 0.3225 - accuracy: 0.8636\n",
            "Epoch 176/250\n",
            "250/250 [==============================] - 0s 863us/step - loss: 0.3356 - accuracy: 0.8583\n",
            "Epoch 177/250\n",
            "250/250 [==============================] - 0s 937us/step - loss: 0.3225 - accuracy: 0.8621\n",
            "Epoch 178/250\n",
            "250/250 [==============================] - 0s 876us/step - loss: 0.3219 - accuracy: 0.8637\n",
            "Epoch 179/250\n",
            "250/250 [==============================] - 0s 932us/step - loss: 0.3240 - accuracy: 0.8614\n",
            "Epoch 180/250\n",
            "250/250 [==============================] - 0s 849us/step - loss: 0.3210 - accuracy: 0.8662\n",
            "Epoch 181/250\n",
            "250/250 [==============================] - 0s 744us/step - loss: 0.3185 - accuracy: 0.8708\n",
            "Epoch 182/250\n",
            "250/250 [==============================] - 0s 846us/step - loss: 0.3166 - accuracy: 0.8689\n",
            "Epoch 183/250\n",
            "250/250 [==============================] - 0s 881us/step - loss: 0.3209 - accuracy: 0.8626\n",
            "Epoch 184/250\n",
            "250/250 [==============================] - 0s 898us/step - loss: 0.3194 - accuracy: 0.8665\n",
            "Epoch 185/250\n",
            "250/250 [==============================] - 0s 887us/step - loss: 0.3158 - accuracy: 0.8711\n",
            "Epoch 186/250\n",
            "250/250 [==============================] - 0s 884us/step - loss: 0.3071 - accuracy: 0.8715\n",
            "Epoch 187/250\n",
            "250/250 [==============================] - 0s 939us/step - loss: 0.3163 - accuracy: 0.8700\n",
            "Epoch 188/250\n",
            "250/250 [==============================] - 0s 795us/step - loss: 0.3110 - accuracy: 0.8721\n",
            "Epoch 189/250\n",
            "250/250 [==============================] - 0s 662us/step - loss: 0.3277 - accuracy: 0.8653\n",
            "Epoch 190/250\n",
            "250/250 [==============================] - 0s 897us/step - loss: 0.3222 - accuracy: 0.8653\n",
            "Epoch 191/250\n",
            "250/250 [==============================] - 0s 881us/step - loss: 0.3248 - accuracy: 0.8684\n",
            "Epoch 192/250\n",
            "250/250 [==============================] - 0s 896us/step - loss: 0.3240 - accuracy: 0.8661\n",
            "Epoch 193/250\n",
            "250/250 [==============================] - 0s 929us/step - loss: 0.3168 - accuracy: 0.8703\n",
            "Epoch 194/250\n",
            "250/250 [==============================] - 0s 867us/step - loss: 0.3106 - accuracy: 0.8738\n",
            "Epoch 195/250\n",
            "250/250 [==============================] - 0s 895us/step - loss: 0.3269 - accuracy: 0.8660\n",
            "Epoch 196/250\n",
            "250/250 [==============================] - 0s 890us/step - loss: 0.3129 - accuracy: 0.8703\n",
            "Epoch 197/250\n",
            "250/250 [==============================] - 0s 797us/step - loss: 0.3105 - accuracy: 0.8707\n",
            "Epoch 198/250\n",
            "250/250 [==============================] - 0s 916us/step - loss: 0.3248 - accuracy: 0.8658\n",
            "Epoch 199/250\n",
            "250/250 [==============================] - 0s 914us/step - loss: 0.3172 - accuracy: 0.8660\n",
            "Epoch 200/250\n",
            "250/250 [==============================] - 0s 936us/step - loss: 0.3180 - accuracy: 0.8688\n",
            "Epoch 201/250\n",
            "250/250 [==============================] - 0s 910us/step - loss: 0.3249 - accuracy: 0.8663\n",
            "Epoch 202/250\n",
            "250/250 [==============================] - 0s 955us/step - loss: 0.3113 - accuracy: 0.8701\n",
            "Epoch 203/250\n",
            "250/250 [==============================] - 0s 908us/step - loss: 0.3170 - accuracy: 0.8708\n",
            "Epoch 204/250\n",
            "250/250 [==============================] - 0s 900us/step - loss: 0.3226 - accuracy: 0.8657\n",
            "Epoch 205/250\n",
            "250/250 [==============================] - 0s 866us/step - loss: 0.3279 - accuracy: 0.8622\n",
            "Epoch 206/250\n",
            "250/250 [==============================] - 0s 880us/step - loss: 0.3339 - accuracy: 0.8615\n",
            "Epoch 207/250\n",
            "250/250 [==============================] - 0s 927us/step - loss: 0.3240 - accuracy: 0.8654\n",
            "Epoch 208/250\n",
            "250/250 [==============================] - 0s 871us/step - loss: 0.3143 - accuracy: 0.8662\n",
            "Epoch 209/250\n",
            "250/250 [==============================] - 0s 880us/step - loss: 0.3222 - accuracy: 0.8679\n",
            "Epoch 210/250\n",
            "250/250 [==============================] - 0s 924us/step - loss: 0.3026 - accuracy: 0.8789\n",
            "Epoch 211/250\n",
            "250/250 [==============================] - 0s 928us/step - loss: 0.3281 - accuracy: 0.8626\n",
            "Epoch 212/250\n",
            "250/250 [==============================] - 0s 909us/step - loss: 0.3227 - accuracy: 0.8672\n",
            "Epoch 213/250\n",
            "250/250 [==============================] - 0s 861us/step - loss: 0.3208 - accuracy: 0.8651\n",
            "Epoch 214/250\n",
            "250/250 [==============================] - 0s 890us/step - loss: 0.3227 - accuracy: 0.8690\n",
            "Epoch 215/250\n",
            "250/250 [==============================] - 0s 867us/step - loss: 0.3109 - accuracy: 0.8705\n",
            "Epoch 216/250\n",
            "250/250 [==============================] - 0s 863us/step - loss: 0.3225 - accuracy: 0.8655\n",
            "Epoch 217/250\n",
            "250/250 [==============================] - 0s 941us/step - loss: 0.3221 - accuracy: 0.8600\n",
            "Epoch 218/250\n",
            "250/250 [==============================] - 0s 893us/step - loss: 0.3282 - accuracy: 0.8638\n",
            "Epoch 219/250\n",
            "250/250 [==============================] - 0s 880us/step - loss: 0.3178 - accuracy: 0.8731\n",
            "Epoch 220/250\n",
            "250/250 [==============================] - 0s 949us/step - loss: 0.3114 - accuracy: 0.8738\n",
            "Epoch 221/250\n",
            "250/250 [==============================] - 0s 886us/step - loss: 0.3313 - accuracy: 0.8585\n",
            "Epoch 222/250\n",
            "250/250 [==============================] - 0s 911us/step - loss: 0.3155 - accuracy: 0.8684\n",
            "Epoch 223/250\n",
            "250/250 [==============================] - 0s 867us/step - loss: 0.3159 - accuracy: 0.8672\n",
            "Epoch 224/250\n",
            "250/250 [==============================] - 0s 919us/step - loss: 0.3109 - accuracy: 0.8708\n",
            "Epoch 225/250\n",
            "250/250 [==============================] - 0s 896us/step - loss: 0.3069 - accuracy: 0.8737\n",
            "Epoch 226/250\n",
            "250/250 [==============================] - 0s 879us/step - loss: 0.3041 - accuracy: 0.8761\n",
            "Epoch 227/250\n",
            "250/250 [==============================] - 0s 874us/step - loss: 0.3247 - accuracy: 0.8634\n",
            "Epoch 228/250\n",
            "250/250 [==============================] - 0s 888us/step - loss: 0.3170 - accuracy: 0.8688\n",
            "Epoch 229/250\n",
            "250/250 [==============================] - 0s 905us/step - loss: 0.3130 - accuracy: 0.8703\n",
            "Epoch 230/250\n",
            "250/250 [==============================] - 0s 930us/step - loss: 0.3161 - accuracy: 0.8672\n",
            "Epoch 231/250\n",
            "250/250 [==============================] - 0s 882us/step - loss: 0.3220 - accuracy: 0.8665\n",
            "Epoch 232/250\n",
            "250/250 [==============================] - 0s 908us/step - loss: 0.3167 - accuracy: 0.8689\n",
            "Epoch 233/250\n",
            "250/250 [==============================] - 0s 874us/step - loss: 0.3139 - accuracy: 0.8685\n",
            "Epoch 234/250\n",
            "250/250 [==============================] - 0s 960us/step - loss: 0.3317 - accuracy: 0.8623\n",
            "Epoch 235/250\n",
            "250/250 [==============================] - 0s 895us/step - loss: 0.3141 - accuracy: 0.8694\n",
            "Epoch 236/250\n",
            "250/250 [==============================] - 0s 907us/step - loss: 0.3223 - accuracy: 0.8677\n",
            "Epoch 237/250\n",
            "250/250 [==============================] - 0s 920us/step - loss: 0.3149 - accuracy: 0.8707\n",
            "Epoch 238/250\n",
            "250/250 [==============================] - 0s 953us/step - loss: 0.3176 - accuracy: 0.8660\n",
            "Epoch 239/250\n",
            "250/250 [==============================] - 0s 937us/step - loss: 0.3292 - accuracy: 0.8624\n",
            "Epoch 240/250\n",
            "250/250 [==============================] - 0s 898us/step - loss: 0.3294 - accuracy: 0.8623\n",
            "Epoch 241/250\n",
            "250/250 [==============================] - 0s 913us/step - loss: 0.3302 - accuracy: 0.8608\n",
            "Epoch 242/250\n",
            "250/250 [==============================] - 0s 929us/step - loss: 0.3123 - accuracy: 0.8686\n",
            "Epoch 243/250\n",
            "250/250 [==============================] - 0s 906us/step - loss: 0.3220 - accuracy: 0.8675\n",
            "Epoch 244/250\n",
            "250/250 [==============================] - 0s 919us/step - loss: 0.3202 - accuracy: 0.8672\n",
            "Epoch 245/250\n",
            "250/250 [==============================] - 0s 891us/step - loss: 0.3277 - accuracy: 0.8613\n",
            "Epoch 246/250\n",
            "250/250 [==============================] - 0s 950us/step - loss: 0.3147 - accuracy: 0.8679\n",
            "Epoch 247/250\n",
            "250/250 [==============================] - 0s 915us/step - loss: 0.3256 - accuracy: 0.8648\n",
            "Epoch 248/250\n",
            "250/250 [==============================] - 0s 963us/step - loss: 0.3162 - accuracy: 0.8707\n",
            "Epoch 249/250\n",
            "250/250 [==============================] - 0s 951us/step - loss: 0.3172 - accuracy: 0.8672\n",
            "Epoch 250/250\n",
            "250/250 [==============================] - 0s 958us/step - loss: 0.3231 - accuracy: 0.8647\n"
          ],
          "name": "stdout"
        },
        {
          "output_type": "execute_result",
          "data": {
            "text/plain": [
              "<tensorflow.python.keras.callbacks.History at 0x7f2aa1841630>"
            ]
          },
          "metadata": {
            "tags": []
          },
          "execution_count": 64
        }
      ]
    },
    {
      "cell_type": "markdown",
      "metadata": {
        "id": "FEScvYJLwdAr"
      },
      "source": [
        "#Making predictions and evaluating the model"
      ]
    },
    {
      "cell_type": "markdown",
      "metadata": {
        "id": "XHq4sUWzwqVk"
      },
      "source": [
        "Homework\r\n",
        "\r\n",
        "Use our ANN model to predict if the customer with the following informations will leave the bank:\r\n",
        "\r\n",
        "Geography: France\r\n",
        "\r\n",
        "Credit Score: 600\r\n",
        "\r\n",
        "Gender: Male\r\n",
        "\r\n",
        "Age: 40 years old\r\n",
        "\r\n",
        "Tenure: 3 years\r\n",
        "\r\n",
        "Balance: $ 60000\r\n",
        "\r\n",
        "Number of Products: 2\r\n",
        "\r\n",
        "Does this customer have a credit card? Yes\r\n",
        "\r\n",
        "Is this customer an Active Member: Yes\r\n",
        "\r\n",
        "Estimated Salary: $ 50000\r\n",
        "\r\n",
        "So, should we say goodbye to that customer?"
      ]
    },
    {
      "cell_type": "code",
      "metadata": {
        "colab": {
          "base_uri": "https://localhost:8080/"
        },
        "id": "8ABBWp80wcgg",
        "outputId": "bda84398-d04a-4b23-9e9e-da1420aa6bec"
      },
      "source": [
        "P=ann.predict(sc.transform([[1,0,0, 600, 1, 40, 3, 60000, 2, 1, 1, 50000]]))\r\n",
        "print(P)\r\n",
        "print(P>0.5)"
      ],
      "execution_count": 65,
      "outputs": [
        {
          "output_type": "stream",
          "text": [
            "[[0.03230172]]\n",
            "[[False]]\n"
          ],
          "name": "stdout"
        }
      ]
    },
    {
      "cell_type": "markdown",
      "metadata": {
        "id": "wQmydxjRzD05"
      },
      "source": [
        "*The ANN model predict that the person will not leave te bank.*"
      ]
    },
    {
      "cell_type": "markdown",
      "metadata": {
        "id": "OcCszvdqzTnH"
      },
      "source": [
        "Predicting the Test Set result"
      ]
    },
    {
      "cell_type": "code",
      "metadata": {
        "colab": {
          "base_uri": "https://localhost:8080/"
        },
        "id": "QVsA1zayzC73",
        "outputId": "11e0ebf0-0d92-4308-8d9b-8c4da8a675df"
      },
      "source": [
        "y_pred = ann.predict(x_test)\r\n",
        "y_pred = (y_pred > 0.5)\r\n",
        "print(np.concatenate((y_pred.reshape(len(y_pred),1), y_test.reshape(len(y_test),1)),1))"
      ],
      "execution_count": 66,
      "outputs": [
        {
          "output_type": "stream",
          "text": [
            "[[0 0]\n",
            " [0 1]\n",
            " [0 0]\n",
            " ...\n",
            " [0 0]\n",
            " [0 0]\n",
            " [0 0]]\n"
          ],
          "name": "stdout"
        }
      ]
    },
    {
      "cell_type": "code",
      "metadata": {
        "colab": {
          "base_uri": "https://localhost:8080/"
        },
        "id": "407G-1Q41Svx",
        "outputId": "522014a6-11d1-4279-90b7-1f93a175b8c6"
      },
      "source": [
        "from sklearn.metrics import confusion_matrix, accuracy_score\r\n",
        "cm = confusion_matrix(y_test, y_pred)\r\n",
        "print(cm)\r\n",
        "accuracy_score(y_test, y_pred)"
      ],
      "execution_count": 68,
      "outputs": [
        {
          "output_type": "stream",
          "text": [
            "[[1528   67]\n",
            " [ 203  202]]\n"
          ],
          "name": "stdout"
        },
        {
          "output_type": "execute_result",
          "data": {
            "text/plain": [
              "0.865"
            ]
          },
          "metadata": {
            "tags": []
          },
          "execution_count": 68
        }
      ]
    }
  ]
}